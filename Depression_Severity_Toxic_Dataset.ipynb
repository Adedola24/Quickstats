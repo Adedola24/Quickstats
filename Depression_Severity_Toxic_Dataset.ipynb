{
  "nbformat": 4,
  "nbformat_minor": 0,
  "metadata": {
    "colab": {
      "provenance": [],
      "authorship_tag": "ABX9TyOgO7YkXgDkRHh6CCvR4pzv",
      "include_colab_link": true
    },
    "kernelspec": {
      "name": "python3",
      "display_name": "Python 3"
    },
    "language_info": {
      "name": "python"
    }
  },
  "cells": [
    {
      "cell_type": "markdown",
      "metadata": {
        "id": "view-in-github",
        "colab_type": "text"
      },
      "source": [
        "<a href=\"https://colab.research.google.com/github/Adedola24/Quickstats/blob/master/Depression_Severity_Toxic_Dataset.ipynb\" target=\"_parent\"><img src=\"https://colab.research.google.com/assets/colab-badge.svg\" alt=\"Open In Colab\"/></a>"
      ]
    },
    {
      "cell_type": "code",
      "source": [
        "\n",
        "!pip install kagglehub --quiet\n",
        "\n",
        "import pandas as pd\n",
        "import numpy as np\n",
        "import matplotlib.pyplot as plt\n",
        "import seaborn as sns\n",
        "import re\n",
        "import warnings\n",
        "warnings.filterwarnings(\"ignore\")\n",
        "\n",
        "from sklearn.feature_extraction.text import TfidfVectorizer\n",
        "from sklearn.linear_model import LogisticRegression\n",
        "from sklearn.model_selection import train_test_split\n",
        "from sklearn.multiclass import OneVsRestClassifier\n",
        "from sklearn.metrics import classification_report, f1_score\n",
        "\n",
        "from tensorflow.keras.preprocessing.text import Tokenizer\n",
        "from tensorflow.keras.preprocessing.sequence import pad_sequences\n",
        "from tensorflow.keras.models import Sequential\n",
        "from tensorflow.keras.layers import Embedding, LSTM, Dense, Dropout, Bidirectional\n",
        "from tensorflow.keras.callbacks import EarlyStopping\n"
      ],
      "metadata": {
        "id": "g19MScE30kmm"
      },
      "execution_count": 19,
      "outputs": []
    },
    {
      "cell_type": "markdown",
      "source": [
        "Load Data"
      ],
      "metadata": {
        "id": "UWD16hBV0tgn"
      }
    },
    {
      "cell_type": "code",
      "source": [
        "\n",
        "import kagglehub\n",
        "\n",
        "# Download dataset\n",
        "path = kagglehub.dataset_download(\"thestartupboy/depression-severity-toxic-comments-dataset\")\n",
        "\n",
        "# Read CSV\n",
        "df = pd.read_csv(f\"{path}/train.csv\")\n",
        "df.head()\n"
      ],
      "metadata": {
        "colab": {
          "base_uri": "https://localhost:8080/",
          "height": 293
        },
        "id": "nT7MbixB0vJI",
        "outputId": "58a797c0-eeeb-4fcb-831a-beefa565e12c"
      },
      "execution_count": 20,
      "outputs": [
        {
          "output_type": "execute_result",
          "data": {
            "text/plain": [
              "                 id                                       comment_text  \\\n",
              "0  0000997932d777bf  Explanation\\nWhy the edits made under my usern...   \n",
              "1  000103f0d9cfb60f  D'aww! He matches this background colour I'm s...   \n",
              "2  000113f07ec002fd  Hey man, I'm really not trying to edit war. It...   \n",
              "3  0001b41b1c6bb37e  \"\\nMore\\nI can't make any real suggestions on ...   \n",
              "4  0001d958c54c6e35  You, sir, are my hero. Any chance you remember...   \n",
              "\n",
              "   psychotic_depression  severe_depression  moderate_depression  \\\n",
              "0                     0                  0                    0   \n",
              "1                     0                  0                    0   \n",
              "2                     0                  0                    0   \n",
              "3                     0                  0                    0   \n",
              "4                     0                  0                    0   \n",
              "\n",
              "   mild_depression  toxic_depression  major_depression  \n",
              "0                0                 0                 0  \n",
              "1                0                 0                 0  \n",
              "2                0                 0                 0  \n",
              "3                0                 0                 0  \n",
              "4                0                 0                 0  "
            ],
            "text/html": [
              "\n",
              "  <div id=\"df-2b3face6-ff9d-464e-9964-8a1d727eb82a\" class=\"colab-df-container\">\n",
              "    <div>\n",
              "<style scoped>\n",
              "    .dataframe tbody tr th:only-of-type {\n",
              "        vertical-align: middle;\n",
              "    }\n",
              "\n",
              "    .dataframe tbody tr th {\n",
              "        vertical-align: top;\n",
              "    }\n",
              "\n",
              "    .dataframe thead th {\n",
              "        text-align: right;\n",
              "    }\n",
              "</style>\n",
              "<table border=\"1\" class=\"dataframe\">\n",
              "  <thead>\n",
              "    <tr style=\"text-align: right;\">\n",
              "      <th></th>\n",
              "      <th>id</th>\n",
              "      <th>comment_text</th>\n",
              "      <th>psychotic_depression</th>\n",
              "      <th>severe_depression</th>\n",
              "      <th>moderate_depression</th>\n",
              "      <th>mild_depression</th>\n",
              "      <th>toxic_depression</th>\n",
              "      <th>major_depression</th>\n",
              "    </tr>\n",
              "  </thead>\n",
              "  <tbody>\n",
              "    <tr>\n",
              "      <th>0</th>\n",
              "      <td>0000997932d777bf</td>\n",
              "      <td>Explanation\\nWhy the edits made under my usern...</td>\n",
              "      <td>0</td>\n",
              "      <td>0</td>\n",
              "      <td>0</td>\n",
              "      <td>0</td>\n",
              "      <td>0</td>\n",
              "      <td>0</td>\n",
              "    </tr>\n",
              "    <tr>\n",
              "      <th>1</th>\n",
              "      <td>000103f0d9cfb60f</td>\n",
              "      <td>D'aww! He matches this background colour I'm s...</td>\n",
              "      <td>0</td>\n",
              "      <td>0</td>\n",
              "      <td>0</td>\n",
              "      <td>0</td>\n",
              "      <td>0</td>\n",
              "      <td>0</td>\n",
              "    </tr>\n",
              "    <tr>\n",
              "      <th>2</th>\n",
              "      <td>000113f07ec002fd</td>\n",
              "      <td>Hey man, I'm really not trying to edit war. It...</td>\n",
              "      <td>0</td>\n",
              "      <td>0</td>\n",
              "      <td>0</td>\n",
              "      <td>0</td>\n",
              "      <td>0</td>\n",
              "      <td>0</td>\n",
              "    </tr>\n",
              "    <tr>\n",
              "      <th>3</th>\n",
              "      <td>0001b41b1c6bb37e</td>\n",
              "      <td>\"\\nMore\\nI can't make any real suggestions on ...</td>\n",
              "      <td>0</td>\n",
              "      <td>0</td>\n",
              "      <td>0</td>\n",
              "      <td>0</td>\n",
              "      <td>0</td>\n",
              "      <td>0</td>\n",
              "    </tr>\n",
              "    <tr>\n",
              "      <th>4</th>\n",
              "      <td>0001d958c54c6e35</td>\n",
              "      <td>You, sir, are my hero. Any chance you remember...</td>\n",
              "      <td>0</td>\n",
              "      <td>0</td>\n",
              "      <td>0</td>\n",
              "      <td>0</td>\n",
              "      <td>0</td>\n",
              "      <td>0</td>\n",
              "    </tr>\n",
              "  </tbody>\n",
              "</table>\n",
              "</div>\n",
              "    <div class=\"colab-df-buttons\">\n",
              "\n",
              "  <div class=\"colab-df-container\">\n",
              "    <button class=\"colab-df-convert\" onclick=\"convertToInteractive('df-2b3face6-ff9d-464e-9964-8a1d727eb82a')\"\n",
              "            title=\"Convert this dataframe to an interactive table.\"\n",
              "            style=\"display:none;\">\n",
              "\n",
              "  <svg xmlns=\"http://www.w3.org/2000/svg\" height=\"24px\" viewBox=\"0 -960 960 960\">\n",
              "    <path d=\"M120-120v-720h720v720H120Zm60-500h600v-160H180v160Zm220 220h160v-160H400v160Zm0 220h160v-160H400v160ZM180-400h160v-160H180v160Zm440 0h160v-160H620v160ZM180-180h160v-160H180v160Zm440 0h160v-160H620v160Z\"/>\n",
              "  </svg>\n",
              "    </button>\n",
              "\n",
              "  <style>\n",
              "    .colab-df-container {\n",
              "      display:flex;\n",
              "      gap: 12px;\n",
              "    }\n",
              "\n",
              "    .colab-df-convert {\n",
              "      background-color: #E8F0FE;\n",
              "      border: none;\n",
              "      border-radius: 50%;\n",
              "      cursor: pointer;\n",
              "      display: none;\n",
              "      fill: #1967D2;\n",
              "      height: 32px;\n",
              "      padding: 0 0 0 0;\n",
              "      width: 32px;\n",
              "    }\n",
              "\n",
              "    .colab-df-convert:hover {\n",
              "      background-color: #E2EBFA;\n",
              "      box-shadow: 0px 1px 2px rgba(60, 64, 67, 0.3), 0px 1px 3px 1px rgba(60, 64, 67, 0.15);\n",
              "      fill: #174EA6;\n",
              "    }\n",
              "\n",
              "    .colab-df-buttons div {\n",
              "      margin-bottom: 4px;\n",
              "    }\n",
              "\n",
              "    [theme=dark] .colab-df-convert {\n",
              "      background-color: #3B4455;\n",
              "      fill: #D2E3FC;\n",
              "    }\n",
              "\n",
              "    [theme=dark] .colab-df-convert:hover {\n",
              "      background-color: #434B5C;\n",
              "      box-shadow: 0px 1px 3px 1px rgba(0, 0, 0, 0.15);\n",
              "      filter: drop-shadow(0px 1px 2px rgba(0, 0, 0, 0.3));\n",
              "      fill: #FFFFFF;\n",
              "    }\n",
              "  </style>\n",
              "\n",
              "    <script>\n",
              "      const buttonEl =\n",
              "        document.querySelector('#df-2b3face6-ff9d-464e-9964-8a1d727eb82a button.colab-df-convert');\n",
              "      buttonEl.style.display =\n",
              "        google.colab.kernel.accessAllowed ? 'block' : 'none';\n",
              "\n",
              "      async function convertToInteractive(key) {\n",
              "        const element = document.querySelector('#df-2b3face6-ff9d-464e-9964-8a1d727eb82a');\n",
              "        const dataTable =\n",
              "          await google.colab.kernel.invokeFunction('convertToInteractive',\n",
              "                                                    [key], {});\n",
              "        if (!dataTable) return;\n",
              "\n",
              "        const docLinkHtml = 'Like what you see? Visit the ' +\n",
              "          '<a target=\"_blank\" href=https://colab.research.google.com/notebooks/data_table.ipynb>data table notebook</a>'\n",
              "          + ' to learn more about interactive tables.';\n",
              "        element.innerHTML = '';\n",
              "        dataTable['output_type'] = 'display_data';\n",
              "        await google.colab.output.renderOutput(dataTable, element);\n",
              "        const docLink = document.createElement('div');\n",
              "        docLink.innerHTML = docLinkHtml;\n",
              "        element.appendChild(docLink);\n",
              "      }\n",
              "    </script>\n",
              "  </div>\n",
              "\n",
              "\n",
              "    <div id=\"df-dc2206ad-6459-4a45-9605-e8e20aa8412c\">\n",
              "      <button class=\"colab-df-quickchart\" onclick=\"quickchart('df-dc2206ad-6459-4a45-9605-e8e20aa8412c')\"\n",
              "                title=\"Suggest charts\"\n",
              "                style=\"display:none;\">\n",
              "\n",
              "<svg xmlns=\"http://www.w3.org/2000/svg\" height=\"24px\"viewBox=\"0 0 24 24\"\n",
              "     width=\"24px\">\n",
              "    <g>\n",
              "        <path d=\"M19 3H5c-1.1 0-2 .9-2 2v14c0 1.1.9 2 2 2h14c1.1 0 2-.9 2-2V5c0-1.1-.9-2-2-2zM9 17H7v-7h2v7zm4 0h-2V7h2v10zm4 0h-2v-4h2v4z\"/>\n",
              "    </g>\n",
              "</svg>\n",
              "      </button>\n",
              "\n",
              "<style>\n",
              "  .colab-df-quickchart {\n",
              "      --bg-color: #E8F0FE;\n",
              "      --fill-color: #1967D2;\n",
              "      --hover-bg-color: #E2EBFA;\n",
              "      --hover-fill-color: #174EA6;\n",
              "      --disabled-fill-color: #AAA;\n",
              "      --disabled-bg-color: #DDD;\n",
              "  }\n",
              "\n",
              "  [theme=dark] .colab-df-quickchart {\n",
              "      --bg-color: #3B4455;\n",
              "      --fill-color: #D2E3FC;\n",
              "      --hover-bg-color: #434B5C;\n",
              "      --hover-fill-color: #FFFFFF;\n",
              "      --disabled-bg-color: #3B4455;\n",
              "      --disabled-fill-color: #666;\n",
              "  }\n",
              "\n",
              "  .colab-df-quickchart {\n",
              "    background-color: var(--bg-color);\n",
              "    border: none;\n",
              "    border-radius: 50%;\n",
              "    cursor: pointer;\n",
              "    display: none;\n",
              "    fill: var(--fill-color);\n",
              "    height: 32px;\n",
              "    padding: 0;\n",
              "    width: 32px;\n",
              "  }\n",
              "\n",
              "  .colab-df-quickchart:hover {\n",
              "    background-color: var(--hover-bg-color);\n",
              "    box-shadow: 0 1px 2px rgba(60, 64, 67, 0.3), 0 1px 3px 1px rgba(60, 64, 67, 0.15);\n",
              "    fill: var(--button-hover-fill-color);\n",
              "  }\n",
              "\n",
              "  .colab-df-quickchart-complete:disabled,\n",
              "  .colab-df-quickchart-complete:disabled:hover {\n",
              "    background-color: var(--disabled-bg-color);\n",
              "    fill: var(--disabled-fill-color);\n",
              "    box-shadow: none;\n",
              "  }\n",
              "\n",
              "  .colab-df-spinner {\n",
              "    border: 2px solid var(--fill-color);\n",
              "    border-color: transparent;\n",
              "    border-bottom-color: var(--fill-color);\n",
              "    animation:\n",
              "      spin 1s steps(1) infinite;\n",
              "  }\n",
              "\n",
              "  @keyframes spin {\n",
              "    0% {\n",
              "      border-color: transparent;\n",
              "      border-bottom-color: var(--fill-color);\n",
              "      border-left-color: var(--fill-color);\n",
              "    }\n",
              "    20% {\n",
              "      border-color: transparent;\n",
              "      border-left-color: var(--fill-color);\n",
              "      border-top-color: var(--fill-color);\n",
              "    }\n",
              "    30% {\n",
              "      border-color: transparent;\n",
              "      border-left-color: var(--fill-color);\n",
              "      border-top-color: var(--fill-color);\n",
              "      border-right-color: var(--fill-color);\n",
              "    }\n",
              "    40% {\n",
              "      border-color: transparent;\n",
              "      border-right-color: var(--fill-color);\n",
              "      border-top-color: var(--fill-color);\n",
              "    }\n",
              "    60% {\n",
              "      border-color: transparent;\n",
              "      border-right-color: var(--fill-color);\n",
              "    }\n",
              "    80% {\n",
              "      border-color: transparent;\n",
              "      border-right-color: var(--fill-color);\n",
              "      border-bottom-color: var(--fill-color);\n",
              "    }\n",
              "    90% {\n",
              "      border-color: transparent;\n",
              "      border-bottom-color: var(--fill-color);\n",
              "    }\n",
              "  }\n",
              "</style>\n",
              "\n",
              "      <script>\n",
              "        async function quickchart(key) {\n",
              "          const quickchartButtonEl =\n",
              "            document.querySelector('#' + key + ' button');\n",
              "          quickchartButtonEl.disabled = true;  // To prevent multiple clicks.\n",
              "          quickchartButtonEl.classList.add('colab-df-spinner');\n",
              "          try {\n",
              "            const charts = await google.colab.kernel.invokeFunction(\n",
              "                'suggestCharts', [key], {});\n",
              "          } catch (error) {\n",
              "            console.error('Error during call to suggestCharts:', error);\n",
              "          }\n",
              "          quickchartButtonEl.classList.remove('colab-df-spinner');\n",
              "          quickchartButtonEl.classList.add('colab-df-quickchart-complete');\n",
              "        }\n",
              "        (() => {\n",
              "          let quickchartButtonEl =\n",
              "            document.querySelector('#df-dc2206ad-6459-4a45-9605-e8e20aa8412c button');\n",
              "          quickchartButtonEl.style.display =\n",
              "            google.colab.kernel.accessAllowed ? 'block' : 'none';\n",
              "        })();\n",
              "      </script>\n",
              "    </div>\n",
              "\n",
              "    </div>\n",
              "  </div>\n"
            ],
            "application/vnd.google.colaboratory.intrinsic+json": {
              "type": "dataframe",
              "variable_name": "df"
            }
          },
          "metadata": {},
          "execution_count": 20
        }
      ]
    },
    {
      "cell_type": "markdown",
      "source": [
        "EDA"
      ],
      "metadata": {
        "id": "4vs9K_pt04U4"
      }
    },
    {
      "cell_type": "code",
      "source": [
        "\n",
        "label_cols = [\n",
        "    'psychotic_depression', 'severe_depression',\n",
        "    'moderate_depression', 'mild_depression',\n",
        "    'toxic_depression', 'major_depression'\n",
        "]\n",
        "\n",
        "# Label counts\n",
        "df[label_cols].sum().sort_values(ascending=False).plot(kind='bar', color='coral')\n",
        "plt.title(\"Count of Depression Severity Labels\")\n",
        "plt.ylabel(\"Number of Comments\")\n",
        "plt.show()\n",
        "\n",
        "# Multi-label count per comment\n",
        "df['label_count'] = df[label_cols].sum(axis=1)\n",
        "print(df['label_count'].value_counts())\n"
      ],
      "metadata": {
        "colab": {
          "base_uri": "https://localhost:8080/",
          "height": 752
        },
        "id": "2aUNID4O06c1",
        "outputId": "4bdd776c-54a0-47e5-86c8-48fc36ba0d1b"
      },
      "execution_count": 21,
      "outputs": [
        {
          "output_type": "display_data",
          "data": {
            "text/plain": [
              "<Figure size 640x480 with 1 Axes>"
            ],
            "image/png": "[encoded data removed]"
          },
          "metadata": {}
        },
        {
          "output_type": "stream",
          "name": "stdout",
          "text": [
            "label_count\n",
            "0    143346\n",
            "1      6360\n",
            "3      4209\n",
            "2      3480\n",
            "4      1760\n",
            "5       385\n",
            "6        31\n",
            "Name: count, dtype: int64\n"
          ]
        }
      ]
    },
    {
      "cell_type": "markdown",
      "source": [
        "Text Cleaning"
      ],
      "metadata": {
        "id": "r580gAms1Ba9"
      }
    },
    {
      "cell_type": "code",
      "source": [
        "\n",
        "def clean_text(text):\n",
        "    text = text.lower()\n",
        "    text = re.sub(r\"\\n\", \" \", text)\n",
        "    text = re.sub(r\"http\\S+\", \"\", text)\n",
        "    text = re.sub(r\"[^a-z\\s]\", \"\", text)\n",
        "    return text.strip()\n",
        "\n",
        "df['clean_text'] = df['comment_text'].apply(clean_text)\n"
      ],
      "metadata": {
        "id": "nVmp_XzY1EQV"
      },
      "execution_count": 22,
      "outputs": []
    },
    {
      "cell_type": "markdown",
      "source": [
        "Baseline Model: TF- IDF + Logistic Regression"
      ],
      "metadata": {
        "id": "OGYtCVdm1NSG"
      }
    },
    {
      "cell_type": "code",
      "source": [
        "\n",
        "# Vectorize\n",
        "vectorizer = TfidfVectorizer(max_features=10000, stop_words='english')\n",
        "X = vectorizer.fit_transform(df['clean_text'])\n",
        "y = df[label_cols]\n",
        "\n",
        "# Train/test split\n",
        "X_train, X_test, y_train, y_test = train_test_split(X, y, test_size=0.2, random_state=42)\n",
        "\n",
        "# Model\n",
        "log_reg = OneVsRestClassifier(LogisticRegression(max_iter=200))\n",
        "log_reg.fit(X_train, y_train)\n",
        "\n",
        "# Predictions\n",
        "y_pred_lr = log_reg.predict(X_test)\n",
        "\n",
        "# Evaluation\n",
        "print(\"=== TF-IDF + Logistic Regression ===\")\n",
        "print(classification_report(y_test, y_pred_lr, target_names=label_cols))\n"
      ],
      "metadata": {
        "colab": {
          "base_uri": "https://localhost:8080/"
        },
        "id": "PwC6nRiM1N5U",
        "outputId": "ecdec769-d2b1-4b1f-d1d3-7996e2be2bf5"
      },
      "execution_count": 23,
      "outputs": [
        {
          "output_type": "stream",
          "name": "stdout",
          "text": [
            "=== TF-IDF + Logistic Regression ===\n",
            "                      precision    recall  f1-score   support\n",
            "\n",
            "psychotic_depression       0.89      0.61      0.73      3056\n",
            "   severe_depression       0.59      0.27      0.37       321\n",
            " moderate_depression       0.91      0.62      0.74      1715\n",
            "     mild_depression       0.64      0.12      0.20        74\n",
            "    toxic_depression       0.83      0.51      0.63      1614\n",
            "    major_depression       0.70      0.14      0.24       294\n",
            "\n",
            "           micro avg       0.87      0.55      0.67      7074\n",
            "           macro avg       0.76      0.38      0.48      7074\n",
            "        weighted avg       0.86      0.55      0.67      7074\n",
            "         samples avg       0.06      0.05      0.05      7074\n",
            "\n"
          ]
        }
      ]
    },
    {
      "cell_type": "markdown",
      "source": [
        "Deep Learning Model: BiLSTM"
      ],
      "metadata": {
        "id": "ljZE0QZB1umi"
      }
    },
    {
      "cell_type": "code",
      "source": [
        "\n",
        "MAX_WORDS = 20000\n",
        "MAX_LEN = 150\n",
        "\n",
        "# Tokenize\n",
        "tokenizer = Tokenizer(num_words=MAX_WORDS, oov_token='<OOV>')\n",
        "tokenizer.fit_on_texts(df['clean_text'])\n",
        "sequences = tokenizer.texts_to_sequences(df['clean_text'])\n",
        "X_seq = pad_sequences(sequences, maxlen=MAX_LEN)\n",
        "\n",
        "# Split\n",
        "X_train, X_test, y_train, y_test = train_test_split(X_seq, y.values, test_size=0.2, random_state=42)\n",
        "\n",
        "# Build model\n",
        "bilstm = Sequential([\n",
        "    Embedding(MAX_WORDS, 128, input_length=MAX_LEN),\n",
        "    Bidirectional(LSTM(64)),\n",
        "    Dropout(0.3),\n",
        "    Dense(64, activation='relu'),\n",
        "    Dense(len(label_cols), activation='sigmoid')\n",
        "])\n",
        "\n",
        "bilstm.compile(loss='binary_crossentropy', optimizer='adam', metrics=['accuracy'])\n",
        "\n",
        "# Train\n",
        "early_stop = EarlyStopping(patience=2, restore_best_weights=True)\n",
        "bilstm.fit(X_train, y_train, validation_split=0.1, epochs=5, batch_size=128, callbacks=[early_stop])\n",
        "\n",
        "# Predictions\n",
        "y_pred_dl = (bilstm.predict(X_test) > 0.5).astype(int)\n",
        "\n",
        "# Evaluation\n",
        "print(\"=== BiLSTM Model ===\")\n",
        "print(classification_report(y_test, y_pred_dl, target_names=label_cols))\n"
      ],
      "metadata": {
        "colab": {
          "base_uri": "https://localhost:8080/"
        },
        "id": "okOZCJCB1xCT",
        "outputId": "ab02dbb2-600b-41f9-ad7e-37b56ac0be4f"
      },
      "execution_count": 24,
      "outputs": [
        {
          "output_type": "stream",
          "name": "stdout",
          "text": [
            "Epoch 1/5\n",
            "\u001b[1m898/898\u001b[0m \u001b[32m━━━━━━━━━━━━━━━━━━━━\u001b[0m\u001b[37m\u001b[0m \u001b[1m497s\u001b[0m 548ms/step - accuracy: 0.8920 - loss: 0.1275 - val_accuracy: 0.9939 - val_loss: 0.0557\n",
            "Epoch 2/5\n",
            "\u001b[1m898/898\u001b[0m \u001b[32m━━━━━━━━━━━━━━━━━━━━\u001b[0m\u001b[37m\u001b[0m \u001b[1m496s\u001b[0m 542ms/step - accuracy: 0.9901 - loss: 0.0497 - val_accuracy: 0.9939 - val_loss: 0.0532\n",
            "Epoch 3/5\n",
            "\u001b[1m898/898\u001b[0m \u001b[32m━━━━━━━━━━━━━━━━━━━━\u001b[0m\u001b[37m\u001b[0m \u001b[1m505s\u001b[0m 546ms/step - accuracy: 0.9933 - loss: 0.0429 - val_accuracy: 0.9931 - val_loss: 0.0530\n",
            "Epoch 4/5\n",
            "\u001b[1m898/898\u001b[0m \u001b[32m━━━━━━━━━━━━━━━━━━━━\u001b[0m\u001b[37m\u001b[0m \u001b[1m501s\u001b[0m 545ms/step - accuracy: 0.9364 - loss: 0.0384 - val_accuracy: 0.9940 - val_loss: 0.0552\n",
            "Epoch 5/5\n",
            "\u001b[1m898/898\u001b[0m \u001b[32m━━━━━━━━━━━━━━━━━━━━\u001b[0m\u001b[37m\u001b[0m \u001b[1m517s\u001b[0m 562ms/step - accuracy: 0.8939 - loss: 0.0353 - val_accuracy: 0.8053 - val_loss: 0.0616\n",
            "\u001b[1m998/998\u001b[0m \u001b[32m━━━━━━━━━━━━━━━━━━━━\u001b[0m\u001b[37m\u001b[0m \u001b[1m44s\u001b[0m 43ms/step\n",
            "=== BiLSTM Model ===\n",
            "                      precision    recall  f1-score   support\n",
            "\n",
            "psychotic_depression       0.82      0.77      0.80      3056\n",
            "   severe_depression       0.47      0.28      0.35       321\n",
            " moderate_depression       0.84      0.76      0.80      1715\n",
            "     mild_depression       0.00      0.00      0.00        74\n",
            "    toxic_depression       0.73      0.69      0.71      1614\n",
            "    major_depression       0.00      0.00      0.00       294\n",
            "\n",
            "           micro avg       0.79      0.69      0.74      7074\n",
            "           macro avg       0.48      0.42      0.44      7074\n",
            "        weighted avg       0.75      0.69      0.71      7074\n",
            "         samples avg       0.07      0.06      0.06      7074\n",
            "\n"
          ]
        }
      ]
    },
    {
      "cell_type": "markdown",
      "source": [
        "Model Comparison"
      ],
      "metadata": {
        "id": "DHU2P68SAFP5"
      }
    },
    {
      "cell_type": "code",
      "source": [
        "\n",
        "f1_lr = f1_score(y_test, y_pred_lr, average=None)\n",
        "f1_dl = f1_score(y_test, y_pred_dl, average=None)\n",
        "\n",
        "x = np.arange(len(label_cols))\n",
        "width = 0.35\n",
        "plt.figure(figsize=(10,6))\n",
        "plt.bar(x - width/2, f1_lr, width, label='TF-IDF + Logistic Regression')\n",
        "plt.bar(x + width/2, f1_dl, width, label='BiLSTM')\n",
        "plt.xticks(x, label_cols, rotation=45)\n",
        "plt.ylabel(\"F1 Score\")\n",
        "plt.title(\"Model Comparison (Baseline vs Deep Learning)\")\n",
        "plt.legend()\n",
        "plt.show()\n"
      ],
      "metadata": {
        "colab": {
          "base_uri": "https://localhost:8080/",
          "height": 647
        },
        "id": "Xd-Qhg1tAF3l",
        "outputId": "bd69b83b-846a-4b8a-f2ae-2112a0fad327"
      },
      "execution_count": 25,
      "outputs": [
        {
          "output_type": "display_data",
          "data": {
            "text/plain": [
              "<Figure size 1000x600 with 1 Axes>"
            ],
            "image/png": "[encoded data removed]"
          },
          "metadata": {}
        }
      ]
    }
  ]
}